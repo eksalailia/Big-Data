{
  "nbformat": 4,
  "nbformat_minor": 0,
  "metadata": {
    "colab": {
      "name": "BigData-UAS.ipynb",
      "provenance": [],
      "authorship_tag": "ABX9TyOSve/i/yEHK1HWK2s5yDaG",
      "include_colab_link": true
    },
    "kernelspec": {
      "name": "python3",
      "display_name": "Python 3"
    },
    "language_info": {
      "name": "python"
    }
  },
  "cells": [
    {
      "cell_type": "markdown",
      "metadata": {
        "id": "view-in-github",
        "colab_type": "text"
      },
      "source": [
        "<a href=\"https://colab.research.google.com/github/eksalailia/BigData_Genap_2022/blob/main/BigData_UAS.ipynb\" target=\"_parent\"><img src=\"https://colab.research.google.com/assets/colab-badge.svg\" alt=\"Open In Colab\"/></a>"
      ]
    },
    {
      "cell_type": "markdown",
      "source": [
        "## Setting PySpark"
      ],
      "metadata": {
        "id": "P4_KDLNjfnTo"
      }
    },
    {
      "cell_type": "code",
      "execution_count": 1,
      "metadata": {
        "id": "_39-GfflorE5"
      },
      "outputs": [],
      "source": [
        "# Install java 8\n",
        "!apt-get install openjdk-8-jdk-headless -qq > /dev/null\n",
        "\n",
        "# Download Apache Spark binary:\n",
        "!wget -q https://dlcdn.apache.org/spark/spark-3.2.1/spark-3.2.1-bin-hadoop3.2.tgz\n",
        "\n",
        "# Unzip file\n",
        "!tar xf spark-3.2.1-bin-hadoop3.2.tgz\n",
        "\n",
        "# Install findspark:\n",
        "!pip install -q findspark\n",
        "\n",
        "# Install pyspark\n",
        "!pip install pyspark"
      ]
    },
    {
      "cell_type": "code",
      "source": [
        "# Menambahkan variable\n",
        "import os\n",
        "os.environ[\"JAVA_HOME\"] = \"/usr/lib/jvm/java-8-openjdk-amd64\"\n",
        "os.environ[\"SPARK_HOME\"] = \"/content/spark-3.2.1-bin-hadoop3.2\"\n",
        "import findspark\n",
        "findspark.init()"
      ],
      "metadata": {
        "id": "M2wOhBuFpS0a"
      },
      "execution_count": 2,
      "outputs": []
    },
    {
      "cell_type": "markdown",
      "source": [
        "## Initialize SparkSession"
      ],
      "metadata": {
        "id": "-BqXGHVWr7t1"
      }
    },
    {
      "cell_type": "code",
      "source": [
        "from pyspark.sql import SparkSession\n",
        "\n",
        "spark = SparkSession.builder \\\n",
        "        .master(\"local\") \\\n",
        "        .appName(\"Hands-on PySpark on Google Colab\") \\\n",
        "        .getOrCreate()"
      ],
      "metadata": {
        "id": "eQ3nJLi-pqDR"
      },
      "execution_count": 5,
      "outputs": []
    },
    {
      "cell_type": "code",
      "source": [
        "spark"
      ],
      "metadata": {
        "colab": {
          "base_uri": "https://localhost:8080/",
          "height": 219
        },
        "id": "WCV6VvOBptxW",
        "outputId": "66b51ea9-b020-4fa7-85ab-54be05f998d5"
      },
      "execution_count": 6,
      "outputs": [
        {
          "output_type": "execute_result",
          "data": {
            "text/plain": [
              "<pyspark.sql.session.SparkSession at 0x7fae4cdaa4d0>"
            ],
            "text/html": [
              "\n",
              "            <div>\n",
              "                <p><b>SparkSession - in-memory</b></p>\n",
              "                \n",
              "        <div>\n",
              "            <p><b>SparkContext</b></p>\n",
              "\n",
              "            <p><a href=\"http://95f6ed82822c:4040\">Spark UI</a></p>\n",
              "\n",
              "            <dl>\n",
              "              <dt>Version</dt>\n",
              "                <dd><code>v3.2.1</code></dd>\n",
              "              <dt>Master</dt>\n",
              "                <dd><code>local</code></dd>\n",
              "              <dt>AppName</dt>\n",
              "                <dd><code>Hands-on PySpark on Google Colab</code></dd>\n",
              "            </dl>\n",
              "        </div>\n",
              "        \n",
              "            </div>\n",
              "        "
            ]
          },
          "metadata": {},
          "execution_count": 6
        }
      ]
    },
    {
      "cell_type": "markdown",
      "source": [
        "## Read Data"
      ],
      "metadata": {
        "id": "4ZKfI7OscDcI"
      }
    },
    {
      "cell_type": "code",
      "source": [
        "!wget -q https://archive.ics.uci.edu/ml/machine-learning-databases/wine-quality/winequality-red.csv -P sample_data/"
      ],
      "metadata": {
        "id": "9IlX5DqhpwAs"
      },
      "execution_count": 7,
      "outputs": []
    },
    {
      "cell_type": "code",
      "source": [
        "filepath = \"sample_data/winequality-red.csv\"\n",
        "spark_df = spark.read.format('csv').options(header='true', inferSchema='true', delimiter=\";\").load(filepath)\n",
        "spark_df.show(5, truncate=False)"
      ],
      "metadata": {
        "colab": {
          "base_uri": "https://localhost:8080/"
        },
        "id": "tuRljTfEpy0p",
        "outputId": "c23f00c1-45b3-4ff9-d492-ae54cee0dc6b"
      },
      "execution_count": 24,
      "outputs": [
        {
          "output_type": "stream",
          "name": "stdout",
          "text": [
            "+-------------+----------------+-----------+--------------+---------+-------------------+--------------------+-------+----+---------+-------+-------+\n",
            "|fixed acidity|volatile acidity|citric acid|residual sugar|chlorides|free sulfur dioxide|total sulfur dioxide|density|pH  |sulphates|alcohol|quality|\n",
            "+-------------+----------------+-----------+--------------+---------+-------------------+--------------------+-------+----+---------+-------+-------+\n",
            "|7.4          |0.7             |0.0        |1.9           |0.076    |11.0               |34.0                |0.9978 |3.51|0.56     |9.4    |5      |\n",
            "|7.8          |0.88            |0.0        |2.6           |0.098    |25.0               |67.0                |0.9968 |3.2 |0.68     |9.8    |5      |\n",
            "|7.8          |0.76            |0.04       |2.3           |0.092    |15.0               |54.0                |0.997  |3.26|0.65     |9.8    |5      |\n",
            "|11.2         |0.28            |0.56       |1.9           |0.075    |17.0               |60.0                |0.998  |3.16|0.58     |9.8    |6      |\n",
            "|7.4          |0.7             |0.0        |1.9           |0.076    |11.0               |34.0                |0.9978 |3.51|0.56     |9.4    |5      |\n",
            "+-------------+----------------+-----------+--------------+---------+-------------------+--------------------+-------+----+---------+-------+-------+\n",
            "only showing top 5 rows\n",
            "\n"
          ]
        }
      ]
    },
    {
      "cell_type": "markdown",
      "source": [
        "## Introduction"
      ],
      "metadata": {
        "id": "kxkKd8WosE32"
      }
    },
    {
      "cell_type": "code",
      "source": [
        "from pyspark.sql import functions as F\n",
        "from pyspark.sql import types as T\n",
        "\n",
        "# StringIndexer memberikan label untuk tiap kategori\n",
        "# OneHotEncoder membuat vektor pengkodean\n",
        "from pyspark.ml.feature import StringIndexer, OneHotEncoder\n",
        "\n",
        "# VectorAssembler digunakan untuk membuat vector dari fungsi. Pemodelan mengambil vektor sebagai input\n",
        "from pyspark.ml.feature import VectorAssembler\n",
        "\n",
        "# DecisionTreeClassifier digunakan untuk klasifikasi masalah\n",
        "from pyspark.ml.classification import DecisionTreeClassifier"
      ],
      "metadata": {
        "id": "pFt7-o-fp38G"
      },
      "execution_count": 26,
      "outputs": []
    },
    {
      "cell_type": "code",
      "source": [
        "# Membuat column kategori untuk menjelaskan tujuan\n",
        "spark_df = spark_df.withColumn(\"alcohol\", F.when(F.col(\"alcohol\") > 10.5, \"Tinggi\").otherwise(\"Rendah\"))\n",
        "spark_df.show(3, truncate=False)\n",
        "\n",
        "spark_df.groupby(\"alcohol\").count().show(), spark_df.select(\"quality\").distinct().show()"
      ],
      "metadata": {
        "colab": {
          "base_uri": "https://localhost:8080/"
        },
        "id": "LKfEy65FqE9l",
        "outputId": "6bf337b5-470a-49e2-f486-82e285be6725"
      },
      "execution_count": 29,
      "outputs": [
        {
          "output_type": "stream",
          "name": "stdout",
          "text": [
            "+-------------+----------------+-----------+--------------+---------+-------------------+--------------------+-------+----+---------+-------+-------+\n",
            "|fixed acidity|volatile acidity|citric acid|residual sugar|chlorides|free sulfur dioxide|total sulfur dioxide|density|pH  |sulphates|alcohol|quality|\n",
            "+-------------+----------------+-----------+--------------+---------+-------------------+--------------------+-------+----+---------+-------+-------+\n",
            "|7.4          |0.7             |0.0        |1.9           |0.076    |11.0               |34.0                |0.9978 |3.51|0.56     |Rendah |5      |\n",
            "|7.8          |0.88            |0.0        |2.6           |0.098    |25.0               |67.0                |0.9968 |3.2 |0.68     |Rendah |5      |\n",
            "|7.8          |0.76            |0.04       |2.3           |0.092    |15.0               |54.0                |0.997  |3.26|0.65     |Rendah |5      |\n",
            "+-------------+----------------+-----------+--------------+---------+-------------------+--------------------+-------+----+---------+-------+-------+\n",
            "only showing top 3 rows\n",
            "\n",
            "+-------+-----+\n",
            "|alcohol|count|\n",
            "+-------+-----+\n",
            "| Tinggi|  616|\n",
            "| Rendah|  983|\n",
            "+-------+-----+\n",
            "\n",
            "+-------+\n",
            "|quality|\n",
            "+-------+\n",
            "|      6|\n",
            "|      3|\n",
            "|      5|\n",
            "|      4|\n",
            "|      8|\n",
            "|      7|\n",
            "+-------+\n",
            "\n"
          ]
        },
        {
          "output_type": "execute_result",
          "data": {
            "text/plain": [
              "(None, None)"
            ]
          },
          "metadata": {},
          "execution_count": 29
        }
      ]
    },
    {
      "cell_type": "code",
      "source": [
        "(train_df, test_df) = spark_df.randomSplit([0.8, 0.2], 11)\n",
        "print(\"Jumlah sampel training : \" + str(train_df.count()))\n",
        "print(\"Jumlah sampel testing: \" + str(test_df.count()))"
      ],
      "metadata": {
        "colab": {
          "base_uri": "https://localhost:8080/"
        },
        "id": "rwvmsgxOqIlE",
        "outputId": "7bdd92df-2417-49e0-d3c5-242137c853f6"
      },
      "execution_count": 28,
      "outputs": [
        {
          "output_type": "stream",
          "name": "stdout",
          "text": [
            "Jumlah sampel training : 1279\n",
            "Jumlah sampel testing: 320\n"
          ]
        }
      ]
    },
    {
      "cell_type": "markdown",
      "source": [
        "## Modeling"
      ],
      "metadata": {
        "id": "J4R0rDuGg6sE"
      }
    },
    {
      "cell_type": "code",
      "source": [
        "train_df.show(3, truncate=False)"
      ],
      "metadata": {
        "colab": {
          "base_uri": "https://localhost:8080/"
        },
        "id": "Rib1cT7lqMHW",
        "outputId": "6cb0b78b-ad83-427e-e274-a7f0c225312a"
      },
      "execution_count": 12,
      "outputs": [
        {
          "output_type": "stream",
          "name": "stdout",
          "text": [
            "+-------------+----------------+-----------+--------------+---------+-------------------+--------------------+-------+----+---------+-------+-------+\n",
            "|fixed acidity|volatile acidity|citric acid|residual sugar|chlorides|free sulfur dioxide|total sulfur dioxide|density|pH  |sulphates|alcohol|quality|\n",
            "+-------------+----------------+-----------+--------------+---------+-------------------+--------------------+-------+----+---------+-------+-------+\n",
            "|4.6          |0.52            |0.15       |2.1           |0.054    |8.0                |65.0                |0.9934 |3.9 |0.56     |High   |4      |\n",
            "|4.7          |0.6             |0.17       |2.3           |0.058    |17.0               |106.0               |0.9932 |3.85|0.6      |High   |6      |\n",
            "|4.9          |0.42            |0.0        |2.1           |0.048    |16.0               |42.0                |0.99154|3.71|0.74     |High   |7      |\n",
            "+-------------+----------------+-----------+--------------+---------+-------------------+--------------------+-------+----+---------+-------+-------+\n",
            "only showing top 3 rows\n",
            "\n"
          ]
        }
      ]
    },
    {
      "cell_type": "code",
      "source": [
        "alcohol_indexer = StringIndexer(inputCol=\"alcohol\", outputCol=\"alcoholIndex\")\n",
        "alcohol_indexer = alcohol_indexer.fit(train_df)\n",
        "train_df = alcohol_indexer.transform(train_df)\n",
        "train_df.show(3, truncate=False)"
      ],
      "metadata": {
        "colab": {
          "base_uri": "https://localhost:8080/"
        },
        "id": "xoq0bRdHqOae",
        "outputId": "a9b12013-12cd-4207-9853-e6da0579729f"
      },
      "execution_count": 13,
      "outputs": [
        {
          "output_type": "stream",
          "name": "stdout",
          "text": [
            "+-------------+----------------+-----------+--------------+---------+-------------------+--------------------+-------+----+---------+-------+-------+------------+\n",
            "|fixed acidity|volatile acidity|citric acid|residual sugar|chlorides|free sulfur dioxide|total sulfur dioxide|density|pH  |sulphates|alcohol|quality|alcoholIndex|\n",
            "+-------------+----------------+-----------+--------------+---------+-------------------+--------------------+-------+----+---------+-------+-------+------------+\n",
            "|4.6          |0.52            |0.15       |2.1           |0.054    |8.0                |65.0                |0.9934 |3.9 |0.56     |High   |4      |1.0         |\n",
            "|4.7          |0.6             |0.17       |2.3           |0.058    |17.0               |106.0               |0.9932 |3.85|0.6      |High   |6      |1.0         |\n",
            "|4.9          |0.42            |0.0        |2.1           |0.048    |16.0               |42.0                |0.99154|3.71|0.74     |High   |7      |1.0         |\n",
            "+-------------+----------------+-----------+--------------+---------+-------------------+--------------------+-------+----+---------+-------+-------+------------+\n",
            "only showing top 3 rows\n",
            "\n"
          ]
        }
      ]
    },
    {
      "cell_type": "code",
      "source": [
        "print(train_df.columns)"
      ],
      "metadata": {
        "colab": {
          "base_uri": "https://localhost:8080/"
        },
        "id": "H7biybesqRB9",
        "outputId": "4f630326-79d9-4cd0-ef5a-f020f81255cc"
      },
      "execution_count": 14,
      "outputs": [
        {
          "output_type": "stream",
          "name": "stdout",
          "text": [
            "['fixed acidity', 'volatile acidity', 'citric acid', 'residual sugar', 'chlorides', 'free sulfur dioxide', 'total sulfur dioxide', 'density', 'pH', 'sulphates', 'alcohol', 'quality', 'alcoholIndex']\n"
          ]
        }
      ]
    },
    {
      "cell_type": "code",
      "source": [
        "inputCols = ['fixed acidity', 'volatile acidity', 'citric acid', 'residual sugar', 'chlorides', 'free sulfur dioxide', 'total sulfur dioxide', 'density', 'pH', 'sulphates', 'alcoholIndex']\n",
        "\n",
        "outputCol = \"features\"\n",
        "vector_assembler = VectorAssembler(inputCols = inputCols, outputCol = outputCol)\n",
        "train_df = vector_assembler.transform(train_df)"
      ],
      "metadata": {
        "id": "nmTS8Q1sqXCF"
      },
      "execution_count": 15,
      "outputs": []
    },
    {
      "cell_type": "code",
      "source": [
        "train_df.show(3, truncate=False)"
      ],
      "metadata": {
        "colab": {
          "base_uri": "https://localhost:8080/"
        },
        "id": "h5lstAiNqZyO",
        "outputId": "24a593a9-d344-468e-ccef-ec9dc3b29a63"
      },
      "execution_count": 16,
      "outputs": [
        {
          "output_type": "stream",
          "name": "stdout",
          "text": [
            "+-------------+----------------+-----------+--------------+---------+-------------------+--------------------+-------+----+---------+-------+-------+------------+--------------------------------------------------------+\n",
            "|fixed acidity|volatile acidity|citric acid|residual sugar|chlorides|free sulfur dioxide|total sulfur dioxide|density|pH  |sulphates|alcohol|quality|alcoholIndex|features                                                |\n",
            "+-------------+----------------+-----------+--------------+---------+-------------------+--------------------+-------+----+---------+-------+-------+------------+--------------------------------------------------------+\n",
            "|4.6          |0.52            |0.15       |2.1           |0.054    |8.0                |65.0                |0.9934 |3.9 |0.56     |High   |4      |1.0         |[4.6,0.52,0.15,2.1,0.054,8.0,65.0,0.9934,3.9,0.56,1.0]  |\n",
            "|4.7          |0.6             |0.17       |2.3           |0.058    |17.0               |106.0               |0.9932 |3.85|0.6      |High   |6      |1.0         |[4.7,0.6,0.17,2.3,0.058,17.0,106.0,0.9932,3.85,0.6,1.0] |\n",
            "|4.9          |0.42            |0.0        |2.1           |0.048    |16.0               |42.0                |0.99154|3.71|0.74     |High   |7      |1.0         |[4.9,0.42,0.0,2.1,0.048,16.0,42.0,0.99154,3.71,0.74,1.0]|\n",
            "+-------------+----------------+-----------+--------------+---------+-------------------+--------------------+-------+----+---------+-------+-------+------------+--------------------------------------------------------+\n",
            "only showing top 3 rows\n",
            "\n"
          ]
        }
      ]
    },
    {
      "cell_type": "code",
      "source": [
        "modeling_df = train_df.select(['features', 'quality'])\n",
        "modeling_df.show(3, truncate=False)"
      ],
      "metadata": {
        "colab": {
          "base_uri": "https://localhost:8080/"
        },
        "id": "loccg4QdqeMt",
        "outputId": "67cd7819-9f8c-4f3a-cd8e-f4707a1040a5"
      },
      "execution_count": 17,
      "outputs": [
        {
          "output_type": "stream",
          "name": "stdout",
          "text": [
            "+--------------------------------------------------------+-------+\n",
            "|features                                                |quality|\n",
            "+--------------------------------------------------------+-------+\n",
            "|[4.6,0.52,0.15,2.1,0.054,8.0,65.0,0.9934,3.9,0.56,1.0]  |4      |\n",
            "|[4.7,0.6,0.17,2.3,0.058,17.0,106.0,0.9932,3.85,0.6,1.0] |6      |\n",
            "|[4.9,0.42,0.0,2.1,0.048,16.0,42.0,0.99154,3.71,0.74,1.0]|7      |\n",
            "+--------------------------------------------------------+-------+\n",
            "only showing top 3 rows\n",
            "\n"
          ]
        }
      ]
    },
    {
      "cell_type": "code",
      "source": [
        "# Membuat model DecisionTreeClassifier \n",
        "dt_model = DecisionTreeClassifier(labelCol=\"quality\", featuresCol=\"features\")\n",
        "\n",
        "# Training model dengan Training Data\n",
        "dt_model = dt_model.fit(modeling_df)"
      ],
      "metadata": {
        "id": "W7SAmUkXqilm"
      },
      "execution_count": 18,
      "outputs": []
    },
    {
      "cell_type": "code",
      "source": [
        "predictions = dt_model.transform(modeling_df)\n",
        "predictions.show(5, truncate=False)"
      ],
      "metadata": {
        "colab": {
          "base_uri": "https://localhost:8080/"
        },
        "id": "jGnWSAXFql78",
        "outputId": "b60dadcb-f0aa-4bd4-8838-aef43de99717"
      },
      "execution_count": 19,
      "outputs": [
        {
          "output_type": "stream",
          "name": "stdout",
          "text": [
            "+--------------------------------------------------------+-------+----------------------------------------+----------------------------------------------------------------------------------------------------------------------+----------+\n",
            "|features                                                |quality|rawPrediction                           |probability                                                                                                           |prediction|\n",
            "+--------------------------------------------------------+-------+----------------------------------------+----------------------------------------------------------------------------------------------------------------------+----------+\n",
            "|[4.6,0.52,0.15,2.1,0.054,8.0,65.0,0.9934,3.9,0.56,1.0]  |4      |[0.0,0.0,0.0,3.0,4.0,31.0,11.0,1.0,0.0] |[0.0,0.0,0.0,0.06,0.08,0.62,0.22,0.02,0.0]                                                                            |5.0       |\n",
            "|[4.7,0.6,0.17,2.3,0.058,17.0,106.0,0.9932,3.85,0.6,1.0] |6      |[0.0,0.0,0.0,0.0,0.0,0.0,1.0,4.0,2.0]   |[0.0,0.0,0.0,0.0,0.0,0.0,0.14285714285714285,0.5714285714285714,0.2857142857142857]                                   |7.0       |\n",
            "|[4.9,0.42,0.0,2.1,0.048,16.0,42.0,0.99154,3.71,0.74,1.0]|7      |[0.0,0.0,0.0,0.0,9.0,20.0,89.0,16.0,0.0]|[0.0,0.0,0.0,0.0,0.06716417910447761,0.14925373134328357,0.664179104477612,0.11940298507462686,0.0]                   |6.0       |\n",
            "|[5.0,0.38,0.01,1.6,0.048,26.0,60.0,0.99084,3.7,0.75,1.0]|6      |[0.0,0.0,0.0,0.0,9.0,20.0,89.0,16.0,0.0]|[0.0,0.0,0.0,0.0,0.06716417910447761,0.14925373134328357,0.664179104477612,0.11940298507462686,0.0]                   |6.0       |\n",
            "|[5.0,0.4,0.5,4.3,0.046,29.0,80.0,0.9902,3.49,0.66,1.0]  |6      |[0.0,0.0,0.0,0.0,1.0,17.0,68.0,32.0,2.0]|[0.0,0.0,0.0,0.0,0.008333333333333333,0.14166666666666666,0.5666666666666667,0.26666666666666666,0.016666666666666666]|6.0       |\n",
            "+--------------------------------------------------------+-------+----------------------------------------+----------------------------------------------------------------------------------------------------------------------+----------+\n",
            "only showing top 5 rows\n",
            "\n"
          ]
        }
      ]
    },
    {
      "cell_type": "code",
      "source": [
        "from pyspark.ml.evaluation import MulticlassClassificationEvaluator\n",
        "\n",
        "evaluatorDT = MulticlassClassificationEvaluator(labelCol=\"quality\")\n",
        "area_under_curve = evaluatorDT.evaluate(predictions)\n",
        "\n",
        "print(area_under_curve)"
      ],
      "metadata": {
        "colab": {
          "base_uri": "https://localhost:8080/"
        },
        "id": "4tK3t0ayqolL",
        "outputId": "1f7290a7-0500-47aa-8056-dbd38904f797"
      },
      "execution_count": 20,
      "outputs": [
        {
          "output_type": "stream",
          "name": "stdout",
          "text": [
            "0.6096614519053557\n"
          ]
        }
      ]
    },
    {
      "cell_type": "markdown",
      "source": [
        "## Test predictions"
      ],
      "metadata": {
        "id": "YBNPyBgehD-K"
      }
    },
    {
      "cell_type": "code",
      "source": [
        "# Pada data uji - tranformasi data uji menggunakan semua transformator dan estimasi dalam urutan yang sama\n",
        "test_df = alcohol_indexer.transform(test_df)\n",
        "test_df = vector_assembler.transform(test_df)\n",
        "test_predictions = dt_model.transform(test_df)\n",
        "\n",
        "test_predictions.show(3, truncate=False)"
      ],
      "metadata": {
        "colab": {
          "base_uri": "https://localhost:8080/"
        },
        "id": "DA9Upq0EqrLu",
        "outputId": "72e1d431-4d9f-446f-a6c4-445636ead826"
      },
      "execution_count": 21,
      "outputs": [
        {
          "output_type": "stream",
          "name": "stdout",
          "text": [
            "+-------------+----------------+-----------+--------------+---------+-------------------+--------------------+-------+----+---------+-------+-------+------------+---------------------------------------------------------+----------------------------------------+---------------------------------------------------------------------------------------------------+----------+\n",
            "|fixed acidity|volatile acidity|citric acid|residual sugar|chlorides|free sulfur dioxide|total sulfur dioxide|density|pH  |sulphates|alcohol|quality|alcoholIndex|features                                                 |rawPrediction                           |probability                                                                                        |prediction|\n",
            "+-------------+----------------+-----------+--------------+---------+-------------------+--------------------+-------+----+---------+-------+-------+------------+---------------------------------------------------------+----------------------------------------+---------------------------------------------------------------------------------------------------+----------+\n",
            "|5.0          |0.42            |0.24       |2.0           |0.06     |19.0               |50.0                |0.9917 |3.72|0.74     |High   |8      |1.0         |[5.0,0.42,0.24,2.0,0.06,19.0,50.0,0.9917,3.72,0.74,1.0]  |[0.0,0.0,0.0,0.0,9.0,20.0,89.0,16.0,0.0]|[0.0,0.0,0.0,0.0,0.06716417910447761,0.14925373134328357,0.664179104477612,0.11940298507462686,0.0]|6.0       |\n",
            "|5.0          |0.74            |0.0        |1.2           |0.041    |16.0               |46.0                |0.99258|4.01|0.59     |High   |6      |1.0         |[5.0,0.74,0.0,1.2,0.041,16.0,46.0,0.99258,4.01,0.59,1.0] |[0.0,0.0,0.0,0.0,9.0,20.0,89.0,16.0,0.0]|[0.0,0.0,0.0,0.0,0.06716417910447761,0.14925373134328357,0.664179104477612,0.11940298507462686,0.0]|6.0       |\n",
            "|5.1          |0.585           |0.0        |1.7           |0.044    |14.0               |86.0                |0.99264|3.56|0.94     |High   |7      |1.0         |[5.1,0.585,0.0,1.7,0.044,14.0,86.0,0.99264,3.56,0.94,1.0]|[0.0,0.0,0.0,0.0,0.0,0.0,1.0,4.0,2.0]   |[0.0,0.0,0.0,0.0,0.0,0.0,0.14285714285714285,0.5714285714285714,0.2857142857142857]                |7.0       |\n",
            "+-------------+----------------+-----------+--------------+---------+-------------------+--------------------+-------+----+---------+-------+-------+------------+---------------------------------------------------------+----------------------------------------+---------------------------------------------------------------------------------------------------+----------+\n",
            "only showing top 3 rows\n",
            "\n"
          ]
        }
      ]
    },
    {
      "cell_type": "code",
      "source": [
        "area_under_curve = evaluatorDT.evaluate(test_predictions)\n",
        "area_under_curve"
      ],
      "metadata": {
        "colab": {
          "base_uri": "https://localhost:8080/"
        },
        "id": "HHH4R5KOq209",
        "outputId": "b5d075d6-9508-4bcc-dfba-b33767141e97"
      },
      "execution_count": 22,
      "outputs": [
        {
          "output_type": "execute_result",
          "data": {
            "text/plain": [
              "0.5816548284862043"
            ]
          },
          "metadata": {},
          "execution_count": 22
        }
      ]
    }
  ]
}